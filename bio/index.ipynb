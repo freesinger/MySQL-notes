{
 "cells": [
  {
   "cell_type": "code",
   "execution_count": 1,
   "metadata": {},
   "outputs": [],
   "source": [
    "import pandas as pd"
   ]
  },
  {
   "cell_type": "code",
   "execution_count": 2,
   "metadata": {},
   "outputs": [
    {
     "data": {
      "text/html": [
       "<div>\n",
       "<style scoped>\n",
       "    .dataframe tbody tr th:only-of-type {\n",
       "        vertical-align: middle;\n",
       "    }\n",
       "\n",
       "    .dataframe tbody tr th {\n",
       "        vertical-align: top;\n",
       "    }\n",
       "\n",
       "    .dataframe thead th {\n",
       "        text-align: right;\n",
       "    }\n",
       "</style>\n",
       "<table border=\"1\" class=\"dataframe\">\n",
       "  <thead>\n",
       "    <tr style=\"text-align: right;\">\n",
       "      <th></th>\n",
       "      <th>STITCH 1</th>\n",
       "      <th>STITCH 2</th>\n",
       "      <th>Polypharmacy Side Effect</th>\n",
       "      <th>Side Effect Name</th>\n",
       "    </tr>\n",
       "  </thead>\n",
       "  <tbody>\n",
       "    <tr>\n",
       "      <th>0</th>\n",
       "      <td>CID000002173</td>\n",
       "      <td>CID000003345</td>\n",
       "      <td>C0151714</td>\n",
       "      <td>hypermagnesemia</td>\n",
       "    </tr>\n",
       "    <tr>\n",
       "      <th>1</th>\n",
       "      <td>CID000002173</td>\n",
       "      <td>CID000003345</td>\n",
       "      <td>C0035344</td>\n",
       "      <td>retinopathy of prematurity</td>\n",
       "    </tr>\n",
       "    <tr>\n",
       "      <th>2</th>\n",
       "      <td>CID000002173</td>\n",
       "      <td>CID000003345</td>\n",
       "      <td>C0004144</td>\n",
       "      <td>atelectasis</td>\n",
       "    </tr>\n",
       "    <tr>\n",
       "      <th>3</th>\n",
       "      <td>CID000002173</td>\n",
       "      <td>CID000003345</td>\n",
       "      <td>C0002063</td>\n",
       "      <td>alkalosis</td>\n",
       "    </tr>\n",
       "    <tr>\n",
       "      <th>4</th>\n",
       "      <td>CID000002173</td>\n",
       "      <td>CID000003345</td>\n",
       "      <td>C0004604</td>\n",
       "      <td>Back Ache</td>\n",
       "    </tr>\n",
       "  </tbody>\n",
       "</table>\n",
       "</div>"
      ],
      "text/plain": [
       "       STITCH 1      STITCH 2 Polypharmacy Side Effect  \\\n",
       "0  CID000002173  CID000003345                 C0151714   \n",
       "1  CID000002173  CID000003345                 C0035344   \n",
       "2  CID000002173  CID000003345                 C0004144   \n",
       "3  CID000002173  CID000003345                 C0002063   \n",
       "4  CID000002173  CID000003345                 C0004604   \n",
       "\n",
       "             Side Effect Name  \n",
       "0             hypermagnesemia  \n",
       "1  retinopathy of prematurity  \n",
       "2                 atelectasis  \n",
       "3                   alkalosis  \n",
       "4                   Back Ache  "
      ]
     },
     "execution_count": 2,
     "metadata": {},
     "output_type": "execute_result"
    }
   ],
   "source": [
    "wine_comb = pd.read_csv('/Users/shanewang/Desktop/CIKM/data/bio-decagon-combo.csv')\n",
    "wine_comb.head()"
   ]
  },
  {
   "cell_type": "code",
   "execution_count": 3,
   "metadata": {},
   "outputs": [
    {
     "data": {
      "text/html": [
       "<div>\n",
       "<style scoped>\n",
       "    .dataframe tbody tr th:only-of-type {\n",
       "        vertical-align: middle;\n",
       "    }\n",
       "\n",
       "    .dataframe tbody tr th {\n",
       "        vertical-align: top;\n",
       "    }\n",
       "\n",
       "    .dataframe thead th {\n",
       "        text-align: right;\n",
       "    }\n",
       "</style>\n",
       "<table border=\"1\" class=\"dataframe\">\n",
       "  <thead>\n",
       "    <tr style=\"text-align: right;\">\n",
       "      <th></th>\n",
       "      <th>id</th>\n",
       "      <th>STITCH 1</th>\n",
       "      <th>STITCH 2</th>\n",
       "      <th>Polypharmacy Side Effect</th>\n",
       "      <th>Side Effect Name</th>\n",
       "    </tr>\n",
       "  </thead>\n",
       "  <tbody>\n",
       "    <tr>\n",
       "      <th>0</th>\n",
       "      <td>0</td>\n",
       "      <td>CID000002173</td>\n",
       "      <td>CID000003345</td>\n",
       "      <td>C0151714</td>\n",
       "      <td>hypermagnesemia</td>\n",
       "    </tr>\n",
       "    <tr>\n",
       "      <th>1</th>\n",
       "      <td>1</td>\n",
       "      <td>CID000002173</td>\n",
       "      <td>CID000003345</td>\n",
       "      <td>C0035344</td>\n",
       "      <td>retinopathy of prematurity</td>\n",
       "    </tr>\n",
       "    <tr>\n",
       "      <th>2</th>\n",
       "      <td>2</td>\n",
       "      <td>CID000002173</td>\n",
       "      <td>CID000003345</td>\n",
       "      <td>C0004144</td>\n",
       "      <td>atelectasis</td>\n",
       "    </tr>\n",
       "    <tr>\n",
       "      <th>3</th>\n",
       "      <td>3</td>\n",
       "      <td>CID000002173</td>\n",
       "      <td>CID000003345</td>\n",
       "      <td>C0002063</td>\n",
       "      <td>alkalosis</td>\n",
       "    </tr>\n",
       "    <tr>\n",
       "      <th>4</th>\n",
       "      <td>4</td>\n",
       "      <td>CID000002173</td>\n",
       "      <td>CID000003345</td>\n",
       "      <td>C0004604</td>\n",
       "      <td>Back Ache</td>\n",
       "    </tr>\n",
       "  </tbody>\n",
       "</table>\n",
       "</div>"
      ],
      "text/plain": [
       "   id      STITCH 1      STITCH 2 Polypharmacy Side Effect  \\\n",
       "0   0  CID000002173  CID000003345                 C0151714   \n",
       "1   1  CID000002173  CID000003345                 C0035344   \n",
       "2   2  CID000002173  CID000003345                 C0004144   \n",
       "3   3  CID000002173  CID000003345                 C0002063   \n",
       "4   4  CID000002173  CID000003345                 C0004604   \n",
       "\n",
       "             Side Effect Name  \n",
       "0             hypermagnesemia  \n",
       "1  retinopathy of prematurity  \n",
       "2                 atelectasis  \n",
       "3                   alkalosis  \n",
       "4                   Back Ache  "
      ]
     },
     "execution_count": 3,
     "metadata": {},
     "output_type": "execute_result"
    }
   ],
   "source": [
    "wine_comb.insert(0, 'id', range(wine_comb.shape[0]))\n",
    "wine_comb.head()"
   ]
  },
  {
   "cell_type": "code",
   "execution_count": 4,
   "metadata": {},
   "outputs": [],
   "source": [
    " wine_comb.to_csv(\"/Users/shanewang/Desktop/CIKM/data/bio-comb.csv\", index=False)"
   ]
  }
 ],
 "metadata": {
  "kernelspec": {
   "display_name": "Python 3",
   "language": "python",
   "name": "python3"
  },
  "language_info": {
   "codemirror_mode": {
    "name": "ipython",
    "version": 3
   },
   "file_extension": ".py",
   "mimetype": "text/x-python",
   "name": "python",
   "nbconvert_exporter": "python",
   "pygments_lexer": "ipython3",
   "version": "3.6.7"
  }
 },
 "nbformat": 4,
 "nbformat_minor": 2
}
